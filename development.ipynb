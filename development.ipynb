{
 "cells": [
  {
   "cell_type": "code",
   "execution_count": null,
   "metadata": {},
   "outputs": [],
   "source": [
    "from credentials.credentials import CredentialsEnum\n",
    "from consumers.api_consumer import ApiConsumer"
   ]
  },
  {
   "cell_type": "code",
   "execution_count": null,
   "metadata": {},
   "outputs": [],
   "source": [
    "def main():\n",
    "    base_url = CredentialsEnum.coin_market_cap.value[\"base_url\"]\n",
    "    api_key = CredentialsEnum.coin_market_cap.value[\"api_key\"]\n",
    "    headers = {\n",
    "        \"Accepts\": \"application/json\",\n",
    "        \"X-CMC_PRO_API_KEY\": api_key,\n",
    "    }\n",
    "    consumer = ApiConsumer(base_url, headers)\n",
    "\n",
    "\n",
    "    data = consumer.get(\n",
    "        parameters={\n",
    "            \"endpoint\": \"/v2/cryptocurrency/quotes/latest\",\n",
    "            \"request_parameters\": {\n",
    "                \"symbol\": \"BTC\",\n",
    "                \"convert\": \"BRL\",\n",
    "            },\n",
    "        }\n",
    "    )\n",
    "\n",
    "    print(data)"
   ]
  }
 ],
 "metadata": {
  "kernelspec": {
   "display_name": "Python 3",
   "language": "python",
   "name": "python3"
  },
  "language_info": {
   "codemirror_mode": {
    "name": "ipython",
    "version": 3
   },
   "file_extension": ".py",
   "mimetype": "text/x-python",
   "name": "python",
   "nbconvert_exporter": "python",
   "pygments_lexer": "ipython3",
   "version": "3.11.4"
  },
  "orig_nbformat": 4
 },
 "nbformat": 4,
 "nbformat_minor": 2
}
